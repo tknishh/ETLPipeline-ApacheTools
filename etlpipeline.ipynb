{
 "cells": [
  {
   "cell_type": "code",
   "execution_count": null,
   "metadata": {},
   "outputs": [],
   "source": [
    "import os,time,json\n",
    "import pandas as pd\n",
    "import matplotlib.pyplot as plt\n",
    "from datetime import datetime,timedelta\n",
    "import uuid\n",
    "\n",
    "text = {\n",
    "    \"id\":str(uuid.uuid4())\n",
    "}\n",
    "\n",
    "text\n",
    "\n",
    "{\n",
    "    'id':'a658979e-8642-4fa4-9fc6-5d48286d6dc4'\n",
    "}\n",
    "\n",
    "file = '../data/test_amharic.wav'\n",
    "\n",
    "path = '/mnt'"
   ]
  }
 ],
 "metadata": {
  "language_info": {
   "name": "python"
  },
  "orig_nbformat": 4
 },
 "nbformat": 4,
 "nbformat_minor": 2
}
